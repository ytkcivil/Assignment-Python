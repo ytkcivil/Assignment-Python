{
 "cells": [
  {
   "cell_type": "code",
   "execution_count": 1,
   "id": "22a13644",
   "metadata": {},
   "outputs": [
    {
     "name": "stdout",
     "output_type": "stream",
     "text": [
      "name :tharun kumar yannam\n",
      "tharun kumar yannam\n"
     ]
    }
   ],
   "source": [
    "username = input(\"name :\")\n",
    "print(username)"
   ]
  },
  {
   "cell_type": "code",
   "execution_count": 3,
   "id": "b08c7b9d",
   "metadata": {},
   "outputs": [
    {
     "data": {
      "text/plain": [
       "'tharun kumar yannam'"
      ]
     },
     "execution_count": 3,
     "metadata": {},
     "output_type": "execute_result"
    }
   ],
   "source": [
    "username"
   ]
  },
  {
   "cell_type": "code",
   "execution_count": 4,
   "id": "1413a2e8",
   "metadata": {},
   "outputs": [
    {
     "name": "stdout",
     "output_type": "stream",
     "text": [
      "marks :76\n"
     ]
    }
   ],
   "source": [
    "marks = input(\"marks :\")"
   ]
  },
  {
   "cell_type": "code",
   "execution_count": 5,
   "id": "bebbb1e1",
   "metadata": {},
   "outputs": [
    {
     "data": {
      "text/plain": [
       "'76'"
      ]
     },
     "execution_count": 5,
     "metadata": {},
     "output_type": "execute_result"
    }
   ],
   "source": [
    "marks"
   ]
  },
  {
   "cell_type": "code",
   "execution_count": 6,
   "id": "f57f5618",
   "metadata": {},
   "outputs": [
    {
     "name": "stdout",
     "output_type": "stream",
     "text": [
      "branch :civil\n"
     ]
    }
   ],
   "source": [
    "branch = input(\"branch :\")"
   ]
  },
  {
   "cell_type": "code",
   "execution_count": 7,
   "id": "220244e4",
   "metadata": {},
   "outputs": [
    {
     "name": "stdout",
     "output_type": "stream",
     "text": [
      "year :2021\n"
     ]
    }
   ],
   "source": [
    "year = input(\"year :\")"
   ]
  },
  {
   "cell_type": "code",
   "execution_count": 8,
   "id": "91c5ded6",
   "metadata": {},
   "outputs": [
    {
     "name": "stdout",
     "output_type": "stream",
     "text": [
      "sem :8\n"
     ]
    }
   ],
   "source": [
    "semesters = input(\"sem :\")"
   ]
  },
  {
   "cell_type": "code",
   "execution_count": 13,
   "id": "4bddd8e0",
   "metadata": {},
   "outputs": [
    {
     "name": "stdout",
     "output_type": "stream",
     "text": [
      "present year :2022\n"
     ]
    },
    {
     "data": {
      "text/plain": [
       "2023.0"
      ]
     },
     "execution_count": 13,
     "metadata": {},
     "output_type": "execute_result"
    }
   ],
   "source": [
    "year = float(input(\"present year :\"))\n",
    "year+1"
   ]
  },
  {
   "cell_type": "code",
   "execution_count": 27,
   "id": "c347399c",
   "metadata": {},
   "outputs": [
    {
     "name": "stdout",
     "output_type": "stream",
     "text": [
      "a is equal to b\n"
     ]
    }
   ],
   "source": [
    "a=33\n",
    "b=33\n",
    "if b>a:\n",
    "    print(f\"b is greater than a\")\n",
    "elif a == b:\n",
    "    print(f\"a is equal to b\")\n",
    "else:\n",
    "    print(f\"a is greater than b\")\n"
   ]
  },
  {
   "cell_type": "code",
   "execution_count": 29,
   "id": "f6dbc097",
   "metadata": {},
   "outputs": [
    {
     "name": "stdout",
     "output_type": "stream",
     "text": [
      "B\n"
     ]
    }
   ],
   "source": [
    "a=33\n",
    "b=33\n",
    "print(\"A\") if a>b else print(\"B\")"
   ]
  },
  {
   "cell_type": "code",
   "execution_count": null,
   "id": "55ad8d69",
   "metadata": {},
   "outputs": [],
   "source": []
  },
  {
   "cell_type": "code",
   "execution_count": null,
   "id": "2f7db1f6",
   "metadata": {},
   "outputs": [],
   "source": []
  },
  {
   "cell_type": "code",
   "execution_count": null,
   "id": "5adc3292",
   "metadata": {},
   "outputs": [],
   "source": []
  }
 ],
 "metadata": {
  "kernelspec": {
   "display_name": "Python 3 (ipykernel)",
   "language": "python",
   "name": "python3"
  },
  "language_info": {
   "codemirror_mode": {
    "name": "ipython",
    "version": 3
   },
   "file_extension": ".py",
   "mimetype": "text/x-python",
   "name": "python",
   "nbconvert_exporter": "python",
   "pygments_lexer": "ipython3",
   "version": "3.9.7"
  }
 },
 "nbformat": 4,
 "nbformat_minor": 5
}
