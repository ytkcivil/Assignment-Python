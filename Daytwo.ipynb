{
 "cells": [
  {
   "cell_type": "code",
   "execution_count": 9,
   "id": "ce86380e",
   "metadata": {},
   "outputs": [
    {
     "name": "stdout",
     "output_type": "stream",
     "text": [
      "hello Tharun\n"
     ]
    }
   ],
   "source": [
    "print(\"hello \" + name)"
   ]
  },
  {
   "cell_type": "code",
   "execution_count": 17,
   "id": "4f383863",
   "metadata": {},
   "outputs": [],
   "source": [
    "name= \"tharun\"\n",
    "age=\"21\"\n",
    "qualification=\"btech\"\n",
    "year=\"2021\""
   ]
  },
  {
   "cell_type": "code",
   "execution_count": 18,
   "id": "a99bbad1",
   "metadata": {},
   "outputs": [
    {
     "name": "stdout",
     "output_type": "stream",
     "text": [
      "my name is : tharun aged : 21 completed : btech\n"
     ]
    }
   ],
   "source": [
    "print('my name is :',name,'aged :',age,'completed :',qualification,)"
   ]
  },
  {
   "cell_type": "code",
   "execution_count": 20,
   "id": "85d01771",
   "metadata": {},
   "outputs": [
    {
     "name": "stdout",
     "output_type": "stream",
     "text": [
      "my name is tharun and im on 21 old and completed btech\n"
     ]
    }
   ],
   "source": [
    "print(\"my name is %s and im on %s old and completed %s\"%(name,age,qualification))"
   ]
  },
  {
   "cell_type": "code",
   "execution_count": 21,
   "id": "d26a187f",
   "metadata": {},
   "outputs": [
    {
     "name": "stdout",
     "output_type": "stream",
     "text": [
      "my name is 21 and im on tharun old and completed btech\n"
     ]
    }
   ],
   "source": [
    "print(\"my name is %s and im on %s old and completed %s\"%(age,name,qualification))"
   ]
  },
  {
   "cell_type": "code",
   "execution_count": 23,
   "id": "6e4b670c",
   "metadata": {},
   "outputs": [
    {
     "name": "stdout",
     "output_type": "stream",
     "text": [
      "my name is tharun and im on 21 old and completed btech\n"
     ]
    }
   ],
   "source": [
    "print(\"my name is {} and im on {} old and completed {}\".format(name,age,qualification))"
   ]
  },
  {
   "cell_type": "code",
   "execution_count": 26,
   "id": "b2a7411d",
   "metadata": {},
   "outputs": [
    {
     "name": "stdout",
     "output_type": "stream",
     "text": [
      "my name is tharun and im on 21 old\n"
     ]
    }
   ],
   "source": [
    "print(\"my name is {} and im on {} old\".format(name,age,qualification))"
   ]
  },
  {
   "cell_type": "code",
   "execution_count": 31,
   "id": "d6a39afc",
   "metadata": {},
   "outputs": [
    {
     "name": "stdout",
     "output_type": "stream",
     "text": [
      "my name is btech and im on 21 old and completed tharun\n"
     ]
    }
   ],
   "source": [
    "print(\"my name is {2} and im on {1} old and completed {0}\".format(name,age,qualification))"
   ]
  },
  {
   "cell_type": "code",
   "execution_count": null,
   "id": "c22b495b",
   "metadata": {},
   "outputs": [],
   "source": [
    "#list = stores multiple items in a single variables"
   ]
  },
  {
   "cell_type": "code",
   "execution_count": 10,
   "id": "c09a5f99",
   "metadata": {},
   "outputs": [
    {
     "name": "stdout",
     "output_type": "stream",
     "text": [
      "['apple', 'banana', 'mango']\n"
     ]
    }
   ],
   "source": [
    "thislist = [\"apple\",\"banana\",\"mango\"]\n",
    "print(thislist)"
   ]
  },
  {
   "cell_type": "code",
   "execution_count": 11,
   "id": "281e4f32",
   "metadata": {},
   "outputs": [
    {
     "name": "stdout",
     "output_type": "stream",
     "text": [
      "3\n"
     ]
    }
   ],
   "source": [
    "print(len(thislist))"
   ]
  },
  {
   "cell_type": "code",
   "execution_count": 12,
   "id": "238d1681",
   "metadata": {},
   "outputs": [
    {
     "data": {
      "text/plain": [
       "list"
      ]
     },
     "execution_count": 12,
     "metadata": {},
     "output_type": "execute_result"
    }
   ],
   "source": [
    "type(thislist)"
   ]
  },
  {
   "cell_type": "code",
   "execution_count": 20,
   "id": "931a6823",
   "metadata": {},
   "outputs": [
    {
     "name": "stdout",
     "output_type": "stream",
     "text": [
      "banana\n"
     ]
    }
   ],
   "source": [
    "print(thislist[1])"
   ]
  },
  {
   "cell_type": "code",
   "execution_count": 21,
   "id": "812b0211",
   "metadata": {},
   "outputs": [
    {
     "name": "stdout",
     "output_type": "stream",
     "text": [
      "mango\n"
     ]
    }
   ],
   "source": [
    "print(thislist[-1])"
   ]
  },
  {
   "cell_type": "code",
   "execution_count": 24,
   "id": "495bcedb",
   "metadata": {},
   "outputs": [
    {
     "name": "stdout",
     "output_type": "stream",
     "text": [
      "['apple', 'banana']\n"
     ]
    }
   ],
   "source": [
    "print(thislist[:2])"
   ]
  },
  {
   "cell_type": "code",
   "execution_count": 25,
   "id": "9c0d4967",
   "metadata": {},
   "outputs": [
    {
     "name": "stdout",
     "output_type": "stream",
     "text": [
      "yes\n"
     ]
    }
   ],
   "source": [
    "if \"apple\" in thislist:\n",
    "    print(\"yes\")"
   ]
  },
  {
   "cell_type": "code",
   "execution_count": 34,
   "id": "3c4d0444",
   "metadata": {},
   "outputs": [
    {
     "name": "stdout",
     "output_type": "stream",
     "text": [
      "['apple', 'banana', 'mango']\n"
     ]
    }
   ],
   "source": [
    "print(thislist)\n"
   ]
  },
  {
   "cell_type": "code",
   "execution_count": 35,
   "id": "1a977147",
   "metadata": {},
   "outputs": [
    {
     "name": "stdout",
     "output_type": "stream",
     "text": [
      "['apple', 'banana', 'mango', 'watermelon']\n"
     ]
    }
   ],
   "source": [
    "thislist = [\"apple\",\"banana\",\"mango\"]\n",
    "thislist.append(\"watermelon\")\n",
    "print(thislist)"
   ]
  },
  {
   "cell_type": "code",
   "execution_count": 36,
   "id": "39b8b74b",
   "metadata": {},
   "outputs": [
    {
     "name": "stdout",
     "output_type": "stream",
     "text": [
      "['apple', 'banana', 'orange', 'mango', 'watermelon']\n"
     ]
    }
   ],
   "source": [
    "thislist.insert(2,\"orange\")\n",
    "print(thislist)"
   ]
  },
  {
   "cell_type": "code",
   "execution_count": 40,
   "id": "aa06863e",
   "metadata": {},
   "outputs": [
    {
     "name": "stdout",
     "output_type": "stream",
     "text": [
      "['apple', 'banana', 'orange', 'mango', 'watermelon', 'mango', 'pineapple', 'papaya']\n"
     ]
    }
   ],
   "source": [
    "tropical = [\"mango\",\"pineapple\",\"papaya\"]\n",
    "thislist = ['apple', 'banana', 'orange', 'mango', 'watermelon']\n",
    "thislist.extend(tropical)\n",
    "print(thislist)"
   ]
  },
  {
   "cell_type": "code",
   "execution_count": null,
   "id": "a92e3935",
   "metadata": {},
   "outputs": [],
   "source": [
    " #tuple collection of ordered and unchanged"
   ]
  },
  {
   "cell_type": "code",
   "execution_count": 43,
   "id": "cbf1728a",
   "metadata": {},
   "outputs": [
    {
     "name": "stdout",
     "output_type": "stream",
     "text": [
      "('a', 'b', 'c', 'd')\n"
     ]
    }
   ],
   "source": [
    "thistuple = (\"a\",\"b\",\"c\",\"d\")\n",
    "print(thistuple)"
   ]
  },
  {
   "cell_type": "code",
   "execution_count": 44,
   "id": "fb3d7f38",
   "metadata": {},
   "outputs": [
    {
     "data": {
      "text/plain": [
       "tuple"
      ]
     },
     "execution_count": 44,
     "metadata": {},
     "output_type": "execute_result"
    }
   ],
   "source": [
    "type(thistuple)"
   ]
  },
  {
   "cell_type": "code",
   "execution_count": 45,
   "id": "c1b754ac",
   "metadata": {},
   "outputs": [
    {
     "name": "stdout",
     "output_type": "stream",
     "text": [
      "b\n"
     ]
    }
   ],
   "source": [
    "print(thistuple[1])"
   ]
  },
  {
   "cell_type": "code",
   "execution_count": 46,
   "id": "29a2b544",
   "metadata": {},
   "outputs": [
    {
     "name": "stdout",
     "output_type": "stream",
     "text": [
      "d\n"
     ]
    }
   ],
   "source": [
    "print(thistuple[-1])"
   ]
  },
  {
   "cell_type": "code",
   "execution_count": 47,
   "id": "025eeb92",
   "metadata": {},
   "outputs": [
    {
     "name": "stdout",
     "output_type": "stream",
     "text": [
      "('b', 'c')\n"
     ]
    }
   ],
   "source": [
    "print(thistuple[1:3])"
   ]
  },
  {
   "cell_type": "code",
   "execution_count": 48,
   "id": "2ec8cb97",
   "metadata": {},
   "outputs": [
    {
     "name": "stdout",
     "output_type": "stream",
     "text": [
      "yes\n"
     ]
    }
   ],
   "source": [
    "if \"a\" in thistuple:\n",
    "    print(\"yes\")"
   ]
  },
  {
   "cell_type": "code",
   "execution_count": 49,
   "id": "fd2cb57e",
   "metadata": {},
   "outputs": [
    {
     "name": "stdout",
     "output_type": "stream",
     "text": [
      "('a', 'm', 'c', 'd')\n"
     ]
    }
   ],
   "source": [
    "x = (\"a\",\"b\",\"c\",\"d\")\n",
    "y = list(x)\n",
    "y[1] = \"m\" # single values are added\n",
    "x = tuple(y)\n",
    "print(x)\n"
   ]
  },
  {
   "cell_type": "code",
   "execution_count": 50,
   "id": "7506c646",
   "metadata": {},
   "outputs": [
    {
     "name": "stdout",
     "output_type": "stream",
     "text": [
      "('a', 'b', 'c', 'd', 'o')\n"
     ]
    }
   ],
   "source": [
    "x = (\"a\",\"b\",\"c\",\"d\")\n",
    "y = list(x)\n",
    "y.append(\"o\")\n",
    "x = tuple(y)\n",
    "print(x)\n"
   ]
  },
  {
   "cell_type": "code",
   "execution_count": 51,
   "id": "423930bd",
   "metadata": {},
   "outputs": [
    {
     "name": "stdout",
     "output_type": "stream",
     "text": [
      "('a', 'b', 'c', 'd', '1', '2', '3')\n"
     ]
    }
   ],
   "source": [
    "x = (\"a\",\"b\",\"c\",\"d\")\n",
    "y = (\"1\",\"2\",\"3\")# adding multiple vales are added\n",
    "x +=y\n",
    "print(x)\n"
   ]
  },
  {
   "cell_type": "code",
   "execution_count": 52,
   "id": "c7d3f5e9",
   "metadata": {},
   "outputs": [
    {
     "name": "stdout",
     "output_type": "stream",
     "text": [
      "('a', 'b', 'd')\n"
     ]
    }
   ],
   "source": [
    "x = (\"a\",\"b\",\"c\",\"d\")\n",
    "y = list(x)\n",
    "y.remove(\"c\")# removing\n",
    "x = tuple(y)\n",
    "print(x)"
   ]
  },
  {
   "cell_type": "code",
   "execution_count": 55,
   "id": "5c6c50c0",
   "metadata": {},
   "outputs": [
    {
     "name": "stdout",
     "output_type": "stream",
     "text": [
      "a\n",
      "d\n"
     ]
    }
   ],
   "source": [
    "x = (\"a\",\"b\",\"c\",\"d\")\n",
    "(one,two,three) = y\n",
    "print(one)\n",
    "print(three)\n"
   ]
  },
  {
   "cell_type": "code",
   "execution_count": 59,
   "id": "80c33450",
   "metadata": {},
   "outputs": [
    {
     "name": "stdout",
     "output_type": "stream",
     "text": [
      "['d']\n"
     ]
    }
   ],
   "source": [
    "x = (\"a\",\"b\",\"c\",\"d\",\"e\",\"f\")\n",
    "(one,two,*three) = y\n",
    "print(three)\n"
   ]
  },
  {
   "cell_type": "code",
   "execution_count": null,
   "id": "56eefb71",
   "metadata": {},
   "outputs": [],
   "source": [
    "#dict stored data values in key:value pairs"
   ]
  },
  {
   "cell_type": "code",
   "execution_count": 61,
   "id": "75eea5f6",
   "metadata": {},
   "outputs": [
    {
     "name": "stdout",
     "output_type": "stream",
     "text": [
      "{'brand': 'ford', 'model': 'mustang', 'year': '1964'}\n"
     ]
    }
   ],
   "source": [
    "thisdict = {\n",
    "    \"brand\":\"ford\",\n",
    "    \"model\":\"mustang\",\n",
    "    \"year\":\"1964\"\n",
    "}\n",
    "print(thisdict)"
   ]
  },
  {
   "cell_type": "code",
   "execution_count": 62,
   "id": "1ac899b8",
   "metadata": {},
   "outputs": [
    {
     "data": {
      "text/plain": [
       "dict"
      ]
     },
     "execution_count": 62,
     "metadata": {},
     "output_type": "execute_result"
    }
   ],
   "source": [
    "type(thisdict)"
   ]
  },
  {
   "cell_type": "code",
   "execution_count": 63,
   "id": "b2c87934",
   "metadata": {},
   "outputs": [
    {
     "name": "stdout",
     "output_type": "stream",
     "text": [
      "1964\n"
     ]
    }
   ],
   "source": [
    "print(thisdict[\"year\"])"
   ]
  },
  {
   "cell_type": "code",
   "execution_count": 64,
   "id": "67ac74c0",
   "metadata": {},
   "outputs": [
    {
     "name": "stdout",
     "output_type": "stream",
     "text": [
      "dict_values(['ford', 'mustang', '1964'])\n"
     ]
    }
   ],
   "source": [
    "thisdict = {\n",
    "    \"brand\":\"ford\",\n",
    "    \"model\":\"mustang\",\n",
    "    \"year\":\"1964\"\n",
    "}\n",
    "\n",
    "x=thisdict.values()\n",
    "print(x)"
   ]
  },
  {
   "cell_type": "code",
   "execution_count": 65,
   "id": "c93dbac8",
   "metadata": {},
   "outputs": [
    {
     "name": "stdout",
     "output_type": "stream",
     "text": [
      "dict_items([('brand', 'ford'), ('model', 'mustang'), ('year', '1964')])\n"
     ]
    }
   ],
   "source": [
    "thisdict = {\n",
    "    \"brand\":\"ford\",\n",
    "    \"model\":\"mustang\",\n",
    "    \"year\":\"1964\"\n",
    "}\n",
    "\n",
    "x=thisdict.items()\n",
    "print(x)"
   ]
  },
  {
   "cell_type": "code",
   "execution_count": 66,
   "id": "024c85f1",
   "metadata": {},
   "outputs": [
    {
     "name": "stdout",
     "output_type": "stream",
     "text": [
      "yes\n"
     ]
    }
   ],
   "source": [
    "if \"model\" in thisdict:\n",
    "    print(\"yes\")"
   ]
  },
  {
   "cell_type": "code",
   "execution_count": 67,
   "id": "7145af2b",
   "metadata": {},
   "outputs": [
    {
     "name": "stdout",
     "output_type": "stream",
     "text": [
      "{'brand': 'ford', 'model': 'mustang', 'year': 2000}\n"
     ]
    }
   ],
   "source": [
    "thisdict = {\n",
    "    \"brand\":\"ford\",\n",
    "    \"model\":\"mustang\",\n",
    "    \"year\":\"1964\"\n",
    "}\n",
    "thisdict.update({\"year\":2000})\n",
    "print(thisdict)"
   ]
  },
  {
   "cell_type": "code",
   "execution_count": 68,
   "id": "44bffbe4",
   "metadata": {},
   "outputs": [
    {
     "name": "stdout",
     "output_type": "stream",
     "text": [
      "brand\n",
      "model\n",
      "year\n"
     ]
    }
   ],
   "source": [
    "for x in thisdict:\n",
    "    print(x)"
   ]
  },
  {
   "cell_type": "code",
   "execution_count": 69,
   "id": "7c9fc561",
   "metadata": {},
   "outputs": [
    {
     "name": "stdout",
     "output_type": "stream",
     "text": [
      "{'brand': 'ford', 'model': 'mustang', 'year': '1964'}\n"
     ]
    }
   ],
   "source": [
    "thisdict = {\n",
    "    \"brand\":\"ford\",\n",
    "    \"model\":\"mustang\",\n",
    "    \"year\":\"1964\"\n",
    "}\n",
    "mydict = dict(thisdict)\n",
    "print(mydict)"
   ]
  },
  {
   "cell_type": "code",
   "execution_count": null,
   "id": "616f3e3f",
   "metadata": {},
   "outputs": [],
   "source": []
  },
  {
   "cell_type": "code",
   "execution_count": null,
   "id": "713f1f60",
   "metadata": {},
   "outputs": [],
   "source": []
  }
 ],
 "metadata": {
  "kernelspec": {
   "display_name": "Python 3 (ipykernel)",
   "language": "python",
   "name": "python3"
  },
  "language_info": {
   "codemirror_mode": {
    "name": "ipython",
    "version": 3
   },
   "file_extension": ".py",
   "mimetype": "text/x-python",
   "name": "python",
   "nbconvert_exporter": "python",
   "pygments_lexer": "ipython3",
   "version": "3.9.7"
  }
 },
 "nbformat": 4,
 "nbformat_minor": 5
}
